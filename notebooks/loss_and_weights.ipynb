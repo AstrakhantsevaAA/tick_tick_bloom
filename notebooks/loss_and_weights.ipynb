{
 "cells": [
  {
   "cell_type": "code",
   "execution_count": 1,
   "id": "0caa2fa3-8d28-43fd-b063-fd41b05fb587",
   "metadata": {},
   "outputs": [],
   "source": [
    "from pathlib import Path\n",
    "\n",
    "import numpy as np\n",
    "import pandas as pd\n",
    "import matplotlib.pyplot as plt"
   ]
  },
  {
   "cell_type": "markdown",
   "id": "d6b7ef46-0eef-4588-8836-acc98bac7109",
   "metadata": {},
   "source": [
    "## Loss for density prediction\n",
    "$$\n",
    "    \\mathcal{L} = \\sqrt{\\frac{1}{N}\\sum{(\\gamma(x) - \\gamma(y))^2}} \\\\\n",
    "    \\gamma(x) = \\underset{1,\\ 5}{clip}\\left[log_{10}\\left(\\frac{\\phi(x)}{100}\\right)\\right] \\\\\n",
    "    \\phi(x) = \\begin{cases}\n",
    "      0.5,\\ x \\le 1 \\\\\n",
    "      \\frac{x}{2},\\ 1 < x < 20000 \\\\\n",
    "      1.25x - 12500,\\ 20000 \\le x < 100000 \\\\\n",
    "      x,\\ x \\ge 100000\n",
    "    \\end{cases}\\,\n",
    "$$"
   ]
  },
  {
   "cell_type": "code",
   "execution_count": 2,
   "id": "f45ca926-e630-41bc-a3e3-dfb7d7f80f38",
   "metadata": {},
   "outputs": [],
   "source": [
    "def phi(x):\n",
    "    x = np.where(x < 1, 0.5, x)\n",
    "    x = np.where((1e1 <= x) & (x < 2e4), 0.5 * x, x)\n",
    "    x = np.where((2e4 <= x) & (x < 1e5), 1.25 * x - 12500, x)\n",
    "    return x\n",
    "\n",
    "\n",
    "def gamma(x):\n",
    "    return np.log10(phi(x) / 100).clip(1, 5)"
   ]
  },
  {
   "cell_type": "markdown",
   "id": "734df2d3-d2bd-41b9-8eb7-2e0219e7d42b",
   "metadata": {},
   "source": [
    "Note: `gamma` should be implemented in a differentiable fashion for NN training.<br><br>\n",
    "We should try two hypoteses:\n",
    " - Output from NN should be raw density for which we explicitly apply `gamma`, but `y` can be preprocessed with `gamma` in advance.\n",
    " - Output from NN should be density which will not be processed, but `y` can be preprocessed with `gamma` in advance.\n",
    "\n",
    "I would prefer to start with the first hypothesis."
   ]
  },
  {
   "cell_type": "markdown",
   "id": "f4d580e8-986e-4942-9357-a73b68471b32",
   "metadata": {},
   "source": [
    "## Weights: normal and adversarial"
   ]
  },
  {
   "cell_type": "code",
   "execution_count": 3,
   "id": "8f59d5a8-9cfe-49c1-b87b-de375d95c4a3",
   "metadata": {},
   "outputs": [],
   "source": [
    "data_folder_prefix = Path('./data/')\n",
    "\n",
    "df = pd.read_csv(data_folder_prefix / 'train_labels.csv')\n",
    "weights = dict(\n",
    "    df.groupby('region')['uid'].agg('count').astype(float) ** -1\n",
    ")\n",
    "w_sum = sum(weights.values())\n",
    "weights = {k: 4 * v / w_sum for k, v in weights.items()}"
   ]
  },
  {
   "cell_type": "code",
   "execution_count": 4,
   "id": "9a3c08b0-315b-4414-b6e8-e8b01be5ab69",
   "metadata": {},
   "outputs": [
    {
     "data": {
      "text/plain": [
       "{'midwest': 1.0724957262249182,\n",
       " 'northeast': 2.0642962359534733,\n",
       " 'south': 0.23718240829260354,\n",
       " 'west': 0.626025629529005}"
      ]
     },
     "execution_count": 4,
     "metadata": {},
     "output_type": "execute_result"
    }
   ],
   "source": [
    "weights"
   ]
  },
  {
   "cell_type": "code",
   "execution_count": 5,
   "id": "a4b07a77-be77-44b4-baf0-43a273c783fd",
   "metadata": {},
   "outputs": [],
   "source": [
    "submission_df = pd.read_csv(data_folder_prefix / 'submission_format.csv')\n",
    "weights2 = dict(\n",
    "    submission_df.groupby('region')['uid'].agg('count').astype(float) ** -1\n",
    ")\n",
    "w_sum2 = sum(weights2.values())\n",
    "weights2 = {k: 4 * v / w_sum2 for k, v in weights2.items()}\n",
    "adv_weights = {k: v / weights2[k] for k, v in weights.items()}"
   ]
  },
  {
   "cell_type": "code",
   "execution_count": 6,
   "id": "e135b5a3-c170-4234-9acc-11eb3fbc1b14",
   "metadata": {},
   "outputs": [
    {
     "data": {
      "text/plain": [
       "{'midwest': 1.1223988198303063,\n",
       " 'northeast': 1.4452933072806708,\n",
       " 'south': 0.23965374945755658,\n",
       " 'west': 0.9992676360890754}"
      ]
     },
     "execution_count": 6,
     "metadata": {},
     "output_type": "execute_result"
    }
   ],
   "source": [
    "adv_weights"
   ]
  },
  {
   "cell_type": "code",
   "execution_count": null,
   "id": "76683712-7147-4e27-843b-7d6981a31b5c",
   "metadata": {},
   "outputs": [],
   "source": []
  },
  {
   "cell_type": "code",
   "execution_count": null,
   "id": "e041ff5d-8df6-4d98-9104-ffce4a21350f",
   "metadata": {},
   "outputs": [],
   "source": []
  },
  {
   "cell_type": "code",
   "execution_count": null,
   "id": "d3a623ff-3d50-423c-b3e3-88ce99125c41",
   "metadata": {},
   "outputs": [],
   "source": []
  },
  {
   "cell_type": "code",
   "execution_count": null,
   "id": "05842eed-1e70-4b03-8cfe-b949fcb38caf",
   "metadata": {},
   "outputs": [],
   "source": []
  },
  {
   "cell_type": "code",
   "execution_count": null,
   "id": "043e73a6-3e37-4934-952a-dc0e95097c06",
   "metadata": {},
   "outputs": [],
   "source": []
  }
 ],
 "metadata": {
  "kernelspec": {
   "display_name": "ttb_kernel",
   "language": "python",
   "name": "ttb_venv"
  },
  "language_info": {
   "codemirror_mode": {
    "name": "ipython",
    "version": 3
   },
   "file_extension": ".py",
   "mimetype": "text/x-python",
   "name": "python",
   "nbconvert_exporter": "python",
   "pygments_lexer": "ipython3",
   "version": "3.8.10"
  }
 },
 "nbformat": 4,
 "nbformat_minor": 5
}
