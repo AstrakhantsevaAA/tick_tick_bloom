{
 "cells": [
  {
   "cell_type": "code",
   "execution_count": 1,
   "metadata": {
    "collapsed": true
   },
   "outputs": [
    {
     "data": {
      "text/plain": "<IPython.core.display.Javascript object>",
      "application/javascript": "\n            setTimeout(function() {\n                var nbb_cell_id = 1;\n                var nbb_unformatted_code = \"%load_ext nb_black\\n%load_ext autoreload\\n%autoreload 2\";\n                var nbb_formatted_code = \"%load_ext nb_black\\n%load_ext autoreload\\n%autoreload 2\";\n                var nbb_cells = Jupyter.notebook.get_cells();\n                for (var i = 0; i < nbb_cells.length; ++i) {\n                    if (nbb_cells[i].input_prompt_number == nbb_cell_id) {\n                        if (nbb_cells[i].get_text() == nbb_unformatted_code) {\n                             nbb_cells[i].set_text(nbb_formatted_code);\n                        }\n                        break;\n                    }\n                }\n            }, 500);\n            "
     },
     "metadata": {},
     "output_type": "display_data"
    }
   ],
   "source": [
    "%load_ext nb_black\n",
    "%load_ext autoreload\n",
    "%autoreload 2"
   ]
  },
  {
   "cell_type": "code",
   "execution_count": 13,
   "outputs": [
    {
     "data": {
      "text/plain": "<IPython.core.display.Javascript object>",
      "application/javascript": "\n            setTimeout(function() {\n                var nbb_cell_id = 13;\n                var nbb_unformatted_code = \"from typing import Any\\n\\nimport pandas as pd\\nimport typer\\nfrom einops import asnumpy\\nfrom torch import no_grad\\nfrom torch.utils.data import DataLoader\\nfrom tqdm import tqdm\\n\\nfrom src.config import Phase, system_config, torch_config\\nfrom src.metrics import weighted_rmse\\nfrom src.nets.define_net import define_net\\nfrom src.train.classificator.train_utils import create_dataloader\";\n                var nbb_formatted_code = \"from typing import Any\\n\\nimport pandas as pd\\nimport typer\\nfrom einops import asnumpy\\nfrom torch import no_grad\\nfrom torch.utils.data import DataLoader\\nfrom tqdm import tqdm\\n\\nfrom src.config import Phase, system_config, torch_config\\nfrom src.metrics import weighted_rmse\\nfrom src.nets.define_net import define_net\\nfrom src.train.classificator.train_utils import create_dataloader\";\n                var nbb_cells = Jupyter.notebook.get_cells();\n                for (var i = 0; i < nbb_cells.length; ++i) {\n                    if (nbb_cells[i].input_prompt_number == nbb_cell_id) {\n                        if (nbb_cells[i].get_text() == nbb_unformatted_code) {\n                             nbb_cells[i].set_text(nbb_formatted_code);\n                        }\n                        break;\n                    }\n                }\n            }, 500);\n            "
     },
     "metadata": {},
     "output_type": "display_data"
    }
   ],
   "source": [
    "import pandas as pd\n",
    "from einops import asnumpy\n",
    "from torch import no_grad\n",
    "from tqdm import tqdm\n",
    "\n",
    "from src.config import system_config, torch_config\n",
    "from src.nets.define_net import define_net\n",
    "from src.train.classificator.train_utils import create_dataloader\n"
   ],
   "metadata": {
    "collapsed": false
   }
  },
  {
   "cell_type": "code",
   "execution_count": 47,
   "outputs": [
    {
     "data": {
      "text/plain": "<IPython.core.display.Javascript object>",
      "application/javascript": "\n            setTimeout(function() {\n                var nbb_cell_id = 47;\n                var nbb_unformatted_code = \"@no_grad()\\ndef get_embeddings(\\n    csv_path: str = \\\"splits/downloaded.csv\\\",\\n    model_path: str = \\\"rexnet_adamw_redefine_scheduler/model_best.pth\\\",\\n    phase: str = \\\"test\\\",\\n):\\n    outputs_save_path = (\\n        system_config.data_dir\\n        / f\\\"embeddings/{model_path.split('/')[-2]}_{csv_path.split('/')[-1]}\\\"\\n    )\\n    outputs_save_path.mkdir(parents=True, exist_ok=True)\\n\\n    model = define_net(\\\"rexnet-100\\\", weights=system_config.model_dir / model_path)\\n\\n    dataloader = create_dataloader(\\n        system_config.data_dir / \\\"arrays/more_arrays_fixed\\\",\\n        system_config.data_dir / csv_path,\\n        inference=phase == \\\"test\\\",\\n        save_preprocessed=None,\\n    )\\n    model.eval()\\n    model.reset_classifier(0)\\n\\n    output = {\\\"uid\\\": [], \\\"features\\\": [], \\\"split\\\": []}\\n\\n    for phase in dataloader.keys():\\n        for batch in tqdm(dataloader[phase]):\\n            features = model(batch[\\\"image\\\"].to(torch_config.device))\\n            output[\\\"uid\\\"].extend(batch[\\\"uid\\\"])\\n            output[\\\"features\\\"].extend(asnumpy(features))\\n            output[\\\"split\\\"].extend([phase.value for _ in range(batch[\\\"image\\\"].shape[0])])\\n\\n    print(len(output[\\\"uid\\\"]), len(output[\\\"features\\\"]), len(output[\\\"split\\\"]))\\n    pd.DataFrame(output).to_hdf(outputs_save_path / \\\"features.h5\\\", key=\\\"features_test\\\", mode=\\\"w\\\")\";\n                var nbb_formatted_code = \"@no_grad()\\ndef get_embeddings(\\n    csv_path: str = \\\"splits/downloaded.csv\\\",\\n    model_path: str = \\\"rexnet_adamw_redefine_scheduler/model_best.pth\\\",\\n    phase: str = \\\"test\\\",\\n):\\n    outputs_save_path = (\\n        system_config.data_dir\\n        / f\\\"embeddings/{model_path.split('/')[-2]}_{csv_path.split('/')[-1]}\\\"\\n    )\\n    outputs_save_path.mkdir(parents=True, exist_ok=True)\\n\\n    model = define_net(\\\"rexnet-100\\\", weights=system_config.model_dir / model_path)\\n\\n    dataloader = create_dataloader(\\n        system_config.data_dir / \\\"arrays/more_arrays_fixed\\\",\\n        system_config.data_dir / csv_path,\\n        inference=phase == \\\"test\\\",\\n        save_preprocessed=None,\\n    )\\n    model.eval()\\n    model.reset_classifier(0)\\n\\n    output = {\\\"uid\\\": [], \\\"features\\\": [], \\\"split\\\": []}\\n\\n    for phase in dataloader.keys():\\n        for batch in tqdm(dataloader[phase]):\\n            features = model(batch[\\\"image\\\"].to(torch_config.device))\\n            output[\\\"uid\\\"].extend(batch[\\\"uid\\\"])\\n            output[\\\"features\\\"].extend(asnumpy(features))\\n            output[\\\"split\\\"].extend(\\n                [phase.value for _ in range(batch[\\\"image\\\"].shape[0])]\\n            )\\n\\n    print(len(output[\\\"uid\\\"]), len(output[\\\"features\\\"]), len(output[\\\"split\\\"]))\\n    pd.DataFrame(output).to_hdf(\\n        outputs_save_path / \\\"features.h5\\\", key=\\\"features_test\\\", mode=\\\"w\\\"\\n    )\";\n                var nbb_cells = Jupyter.notebook.get_cells();\n                for (var i = 0; i < nbb_cells.length; ++i) {\n                    if (nbb_cells[i].input_prompt_number == nbb_cell_id) {\n                        if (nbb_cells[i].get_text() == nbb_unformatted_code) {\n                             nbb_cells[i].set_text(nbb_formatted_code);\n                        }\n                        break;\n                    }\n                }\n            }, 500);\n            "
     },
     "metadata": {},
     "output_type": "display_data"
    }
   ],
   "source": [
    "@no_grad()\n",
    "def get_embeddings(\n",
    "    csv_path: str = \"splits/downloaded.csv\",\n",
    "    model_path: str = \"rexnet_adamw_redefine_scheduler/model_best.pth\",\n",
    "    phase: str = \"test\",\n",
    "):\n",
    "    outputs_save_path = (\n",
    "        system_config.data_dir\n",
    "        / f\"embeddings/{model_path.split('/')[-2]}_{csv_path.split('/')[-1]}\"\n",
    "    )\n",
    "    outputs_save_path.mkdir(parents=True, exist_ok=True)\n",
    "\n",
    "    model = define_net(\"rexnet-100\", weights=system_config.model_dir / model_path)\n",
    "\n",
    "    dataloader = create_dataloader(\n",
    "        system_config.data_dir / \"arrays/more_arrays_fixed\",\n",
    "        system_config.data_dir / csv_path,\n",
    "        inference=phase == \"test\",\n",
    "        save_preprocessed=None,\n",
    "    )\n",
    "    model.eval()\n",
    "    model.reset_classifier(0)\n",
    "\n",
    "    output = {\"uid\": [], \"features\": [], \"split\": []}\n",
    "\n",
    "    for phase in dataloader.keys():\n",
    "        for batch in tqdm(dataloader[phase]):\n",
    "            features = model(batch[\"image\"].to(torch_config.device))\n",
    "            output[\"uid\"].extend(batch[\"uid\"])\n",
    "            output[\"features\"].extend(asnumpy(features))\n",
    "            output[\"split\"].extend([phase.value for _ in range(batch[\"image\"].shape[0])])\n",
    "\n",
    "    print(len(output[\"uid\"]), len(output[\"features\"]), len(output[\"split\"]))\n",
    "    pd.DataFrame(output).to_hdf(outputs_save_path / \"features_test.h5\", key=\"features\", mode=\"w\")"
   ],
   "metadata": {
    "collapsed": false
   }
  },
  {
   "cell_type": "code",
   "execution_count": 48,
   "outputs": [
    {
     "name": "stderr",
     "output_type": "stream",
     "text": [
      "2023-01-23 15:09:23.955 | WARNING  | src.data_utils.dataset:__init__:48 - Preprocessed data will be saved to or read from None\n",
      "/home/alenaastrakhantseva/PycharmProjects/tick_tick_bloom/src/data_utils/dataset.py:61: SettingWithCopyWarning: \n",
      "A value is trying to be set on a copy of a slice from a DataFrame.\n",
      "Try using .loc[row_indexer,col_indexer] = value instead\n",
      "\n",
      "See the caveats in the documentation: https://pandas.pydata.org/pandas-docs/stable/user_guide/indexing.html#returning-a-view-versus-a-copy\n",
      "  self.data[\"filepath\"] = self.data.loc[:, \"uid\"].map(self.images_dict)\n",
      "/home/alenaastrakhantseva/PycharmProjects/tick_tick_bloom/src/data_utils/dataset.py:62: SettingWithCopyWarning: \n",
      "A value is trying to be set on a copy of a slice from a DataFrame.\n",
      "Try using .loc[row_indexer,col_indexer] = value instead\n",
      "\n",
      "See the caveats in the documentation: https://pandas.pydata.org/pandas-docs/stable/user_guide/indexing.html#returning-a-view-versus-a-copy\n",
      "  self.data[\"origin\"] = self.data.loc[:, \"uid\"].map(self.origin)\n",
      "100%|██████████| 200/200 [01:10<00:00,  2.82it/s]\n",
      "/tmp/ipykernel_68012/2098982558.py:34: PerformanceWarning: \n",
      "your performance may suffer as PyTables will pickle object types that it cannot\n",
      "map directly to c-types [inferred_type->mixed,key->block0_values] [items->Index(['uid', 'features', 'split'], dtype='object')]\n",
      "\n",
      "  pd.DataFrame(output).to_hdf(outputs_save_path / \"features.h5\", key=\"features_test\", mode=\"w\")\n"
     ]
    },
    {
     "name": "stdout",
     "output_type": "stream",
     "text": [
      "6381 6381 6381\n"
     ]
    },
    {
     "data": {
      "text/plain": "<IPython.core.display.Javascript object>",
      "application/javascript": "\n            setTimeout(function() {\n                var nbb_cell_id = 48;\n                var nbb_unformatted_code = \"get_embeddings()\";\n                var nbb_formatted_code = \"get_embeddings()\";\n                var nbb_cells = Jupyter.notebook.get_cells();\n                for (var i = 0; i < nbb_cells.length; ++i) {\n                    if (nbb_cells[i].input_prompt_number == nbb_cell_id) {\n                        if (nbb_cells[i].get_text() == nbb_unformatted_code) {\n                             nbb_cells[i].set_text(nbb_formatted_code);\n                        }\n                        break;\n                    }\n                }\n            }, 500);\n            "
     },
     "metadata": {},
     "output_type": "display_data"
    }
   ],
   "source": [
    "get_embeddings()"
   ],
   "metadata": {
    "collapsed": false
   }
  },
  {
   "cell_type": "code",
   "execution_count": 50,
   "outputs": [
    {
     "data": {
      "text/plain": "       uid                                           features split\n0     aabn  [-0.05148753, -0.28469357, 0.060479403, 0.1216...  test\n1     aair  [-0.059007075, -0.31480384, -0.0015645854, 0.0...  test\n2     aajw  [-0.019622073, -0.06280427, 0.0, -0.015245821,...  test\n3     aalr  [-0.059091806, 0.0, 0.17071946, 0.07721321, -0...  test\n4     aalw  [-0.012919307, -0.21879324, 0.013832152, -0.02...  test\n...    ...                                                ...   ...\n6376  zzpn  [-0.01615512, -0.08934799, 0.004488887, 0.0065...  test\n6377  zzrv  [-0.052115697, 0.0, 0.09748986, 0.00917091, -0...  test\n6378  zzsx  [0.0, -0.12665486, 0.00061047927, -0.014877672...  test\n6379  zzvv  [-0.016086448, -0.2605043, 0.09118736, 0.04008...  test\n6380  zzzi  [-0.026502201, -0.16649796, 0.0, 0.040759906, ...  test\n\n[6381 rows x 3 columns]",
      "text/html": "<div>\n<style scoped>\n    .dataframe tbody tr th:only-of-type {\n        vertical-align: middle;\n    }\n\n    .dataframe tbody tr th {\n        vertical-align: top;\n    }\n\n    .dataframe thead th {\n        text-align: right;\n    }\n</style>\n<table border=\"1\" class=\"dataframe\">\n  <thead>\n    <tr style=\"text-align: right;\">\n      <th></th>\n      <th>uid</th>\n      <th>features</th>\n      <th>split</th>\n    </tr>\n  </thead>\n  <tbody>\n    <tr>\n      <th>0</th>\n      <td>aabn</td>\n      <td>[-0.05148753, -0.28469357, 0.060479403, 0.1216...</td>\n      <td>test</td>\n    </tr>\n    <tr>\n      <th>1</th>\n      <td>aair</td>\n      <td>[-0.059007075, -0.31480384, -0.0015645854, 0.0...</td>\n      <td>test</td>\n    </tr>\n    <tr>\n      <th>2</th>\n      <td>aajw</td>\n      <td>[-0.019622073, -0.06280427, 0.0, -0.015245821,...</td>\n      <td>test</td>\n    </tr>\n    <tr>\n      <th>3</th>\n      <td>aalr</td>\n      <td>[-0.059091806, 0.0, 0.17071946, 0.07721321, -0...</td>\n      <td>test</td>\n    </tr>\n    <tr>\n      <th>4</th>\n      <td>aalw</td>\n      <td>[-0.012919307, -0.21879324, 0.013832152, -0.02...</td>\n      <td>test</td>\n    </tr>\n    <tr>\n      <th>...</th>\n      <td>...</td>\n      <td>...</td>\n      <td>...</td>\n    </tr>\n    <tr>\n      <th>6376</th>\n      <td>zzpn</td>\n      <td>[-0.01615512, -0.08934799, 0.004488887, 0.0065...</td>\n      <td>test</td>\n    </tr>\n    <tr>\n      <th>6377</th>\n      <td>zzrv</td>\n      <td>[-0.052115697, 0.0, 0.09748986, 0.00917091, -0...</td>\n      <td>test</td>\n    </tr>\n    <tr>\n      <th>6378</th>\n      <td>zzsx</td>\n      <td>[0.0, -0.12665486, 0.00061047927, -0.014877672...</td>\n      <td>test</td>\n    </tr>\n    <tr>\n      <th>6379</th>\n      <td>zzvv</td>\n      <td>[-0.016086448, -0.2605043, 0.09118736, 0.04008...</td>\n      <td>test</td>\n    </tr>\n    <tr>\n      <th>6380</th>\n      <td>zzzi</td>\n      <td>[-0.026502201, -0.16649796, 0.0, 0.040759906, ...</td>\n      <td>test</td>\n    </tr>\n  </tbody>\n</table>\n<p>6381 rows × 3 columns</p>\n</div>"
     },
     "execution_count": 50,
     "metadata": {},
     "output_type": "execute_result"
    },
    {
     "data": {
      "text/plain": "<IPython.core.display.Javascript object>",
      "application/javascript": "\n            setTimeout(function() {\n                var nbb_cell_id = 50;\n                var nbb_unformatted_code = \"f = pd.read_hdf(\\\"/home/alenaastrakhantseva/PycharmProjects/tick_tick_bloom/data/embeddings/rexnet_adamw_redefine_scheduler_downloaded.csv/features.h5\\\")\\nf\";\n                var nbb_formatted_code = \"f = pd.read_hdf(\\n    \\\"/home/alenaastrakhantseva/PycharmProjects/tick_tick_bloom/data/embeddings/rexnet_adamw_redefine_scheduler_downloaded.csv/features.h5\\\"\\n)\\nf\";\n                var nbb_cells = Jupyter.notebook.get_cells();\n                for (var i = 0; i < nbb_cells.length; ++i) {\n                    if (nbb_cells[i].input_prompt_number == nbb_cell_id) {\n                        if (nbb_cells[i].get_text() == nbb_unformatted_code) {\n                             nbb_cells[i].set_text(nbb_formatted_code);\n                        }\n                        break;\n                    }\n                }\n            }, 500);\n            "
     },
     "metadata": {},
     "output_type": "display_data"
    }
   ],
   "source": [
    "f = pd.read_hdf(system_config.data_dir, \"embeddings/rexnet_adamw_redefine_scheduler_downloaded.csv/features.h5\")\n",
    "f"
   ],
   "metadata": {
    "collapsed": false
   }
  },
  {
   "cell_type": "code",
   "execution_count": null,
   "outputs": [],
   "source": [],
   "metadata": {
    "collapsed": false
   }
  }
 ],
 "metadata": {
  "kernelspec": {
   "display_name": "Python 3",
   "language": "python",
   "name": "python3"
  },
  "language_info": {
   "codemirror_mode": {
    "name": "ipython",
    "version": 2
   },
   "file_extension": ".py",
   "mimetype": "text/x-python",
   "name": "python",
   "nbconvert_exporter": "python",
   "pygments_lexer": "ipython2",
   "version": "2.7.6"
  }
 },
 "nbformat": 4,
 "nbformat_minor": 0
}
