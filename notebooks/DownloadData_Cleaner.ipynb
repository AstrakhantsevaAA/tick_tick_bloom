{
 "cells": [
  {
   "cell_type": "code",
   "execution_count": 1,
   "metadata": {
    "collapsed": false,
    "jupyter": {
     "outputs_hidden": false
    }
   },
   "outputs": [],
   "source": [
    "from copy import copy\n",
    "from pathlib import Path\n",
    "from functools import partial\n",
    "import multiprocessing\n",
    "import json\n",
    "\n",
    "import pandas as pd\n",
    "import numpy as np\n",
    "from scipy.special import expit as sigmoid\n",
    "import matplotlib.pyplot as plt\n",
    "\n",
    "from tqdm import tqdm\n",
    "\n",
    "import pystac_client\n",
    "import planetary_computer\n",
    "from geopy import distance\n",
    "from odc import stac\n",
    "import rioxarray"
   ]
  },
  {
   "cell_type": "code",
   "execution_count": 2,
   "metadata": {
    "collapsed": false,
    "jupyter": {
     "outputs_hidden": false
    }
   },
   "outputs": [],
   "source": [
    "def create_date_range(date: str, days_before: int, days_after: int):\n",
    "    date_format = '%Y-%m-%d'\n",
    "    date_before = (\n",
    "        pd.to_datetime(date) - pd.Timedelta(f'{days_before}D')\n",
    "    )\n",
    "    date_after = (\n",
    "        pd.to_datetime(date) + pd.Timedelta(f'{days_after}D')\n",
    "    )\n",
    "    return f\"{date_before.strftime(date_format)}/{date_after.strftime(date_format)}\""
   ]
  },
  {
   "cell_type": "code",
   "execution_count": 3,
   "metadata": {
    "collapsed": false,
    "jupyter": {
     "outputs_hidden": false
    }
   },
   "outputs": [],
   "source": [
    "def get_bounding_box(center: tuple, dist: int = 2560):\n",
    "    distance_search = distance.distance(meters=dist // 2)\n",
    "\n",
    "    min_lat = distance_search.destination(center, bearing=180)[0]\n",
    "    min_long = distance_search.destination(center, bearing=270)[1]\n",
    "    max_lat = distance_search.destination(center, bearing=0)[0]\n",
    "    max_long = distance_search.destination(center, bearing=90)[1]\n",
    "\n",
    "    return [min_long, min_lat, max_long, max_lat]"
   ]
  },
  {
   "cell_type": "code",
   "execution_count": 4,
   "metadata": {
    "collapsed": false,
    "jupyter": {
     "outputs_hidden": false
    }
   },
   "outputs": [],
   "source": [
    "def get_elevation_href(catalog, search_bbox, *args, **kwargs):\n",
    "    iterator = catalog.search(\n",
    "        collections=[\"cop-dem-glo-30\"],\n",
    "        bbox=search_bbox\n",
    "    ).items()\n",
    "    return next(iterator).assets[\"data\"].href"
   ]
  },
  {
   "cell_type": "code",
   "execution_count": 5,
   "metadata": {
    "collapsed": false,
    "jupyter": {
     "outputs_hidden": false
    }
   },
   "outputs": [],
   "source": [
    "def float_timedelta(max_date, datetime):\n",
    "    # max_date = date_range.split('/')[-1]\n",
    "    timedelta = pd.to_datetime(max_date, utc=True) - pd.to_datetime(datetime)\n",
    "    return timedelta / pd.to_timedelta(1, unit='D')\n",
    "\n",
    "def scoring_fun(ccov, ftd, hour, alpha=1.2, beta=1.5, gamma=2.0, sigma=50):\n",
    "    return (\n",
    "        np.expm1(ccov ** alpha) / 1.75\n",
    "    ) * np.clip(\n",
    "        ftd, beta, None\n",
    "    ) + gamma * sigmoid(\n",
    "        sigma * (\n",
    "            np.cos(np.pi * (hour - 1.5) / 12) - 0.6\n",
    "        )\n",
    "    )\n",
    "\n",
    "def select_best_item(items, date_range):\n",
    "    if not items:\n",
    "        raise ValueError(\"Not enough items!\")\n",
    "\n",
    "    best_item = items[0]\n",
    "    best_score = np.inf\n",
    "\n",
    "    max_date = date_range.split('/')[-1]\n",
    "    for item in items:\n",
    "        hour = pd.to_datetime(item.datetime).hour\n",
    "        ftd = float_timedelta(max_date, item.datetime)\n",
    "        ccov = item.properties[\"eo:cloud_cover\"] / 100\n",
    "        score = scoring_fun(ccov, ftd, hour)\n",
    "        if score < best_score:\n",
    "            best_score = score\n",
    "            best_item = item\n",
    "\n",
    "    return best_item"
   ]
  },
  {
   "cell_type": "code",
   "execution_count": 6,
   "metadata": {
    "collapsed": false,
    "jupyter": {
     "outputs_hidden": false
    }
   },
   "outputs": [],
   "source": [
    "def get_landsat_data(catalog, search_bbox, date_range, *args, **kwargs):\n",
    "    items = catalog.search(\n",
    "        collections=[\"landsat-c2-l2\"],\n",
    "        bbox=search_bbox,\n",
    "        datetime=date_range,\n",
    "        filter={\n",
    "                \"op\": \"gte\",\n",
    "                \"args\": [{\"property\": \"platform\"}, 'landsat-8']\n",
    "        },\n",
    "    ).get_all_items()\n",
    "\n",
    "    selected_item = select_best_item(items, date_range)\n",
    "\n",
    "    bands_of_interest_landsat = ['red', 'green', 'blue', 'nir08', 'qa_aerosol', 'swir16']\n",
    "    data = stac.stac_load(\n",
    "        [selected_item],\n",
    "        bands=bands_of_interest_landsat,\n",
    "        bbox=search_bbox\n",
    "    ).isel(time=0)\n",
    "\n",
    "    img = data[['red', 'green', 'blue']].to_array().to_numpy().astype(float).transpose(1, 2, 0) / np.iinfo(np.uint16).max\n",
    "    qaa = data[['qa_aerosol']].to_array().to_numpy()\n",
    "\n",
    "    clouds = qaa[0] & ((1 << 7) | (1 << 6))\n",
    "\n",
    "    red = data[\"red\"].astype(\"float\")\n",
    "    blue = data[\"blue\"].astype(\"float\")\n",
    "    nir = data[\"nir08\"].astype(\"float\")\n",
    "    swir = data[\"swir16\"].astype(\"float\")\n",
    "\n",
    "    ndvi = (nir - red) / (nir + red)\n",
    "    ndwi = (nir - swir) / (nir + swir)\n",
    "    evi = (nir - red) / (nir + 6 * red - 7.5 * blue + 1)\n",
    "\n",
    "    platform = selected_item.properties['platform']\n",
    "    cloud_cover = selected_item.properties['eo:cloud_cover']\n",
    "    sun_azimuth = selected_item.properties['view:sun_azimuth']\n",
    "    sun_elevation = selected_item.properties['view:sun_elevation']\n",
    "    cap_ts = pd.to_datetime(selected_item.datetime)\n",
    "    cap_date = cap_ts.strftime('%Y-%m-%d')\n",
    "    cap_time = cap_ts.strftime('%H:%M')\n",
    "\n",
    "    # 7 channels: R, G, B, C, V, W, E\n",
    "    capture = np.dstack([img, clouds, ndvi, ndwi, evi])\n",
    "    metadata = {\n",
    "        'l_platform': platform,\n",
    "        'l_cloud_cover': cloud_cover,\n",
    "        'l_sun_azimuth': sun_azimuth,\n",
    "        'l_sun_elevation': sun_elevation,\n",
    "        'l_cap_date': cap_date,\n",
    "        'l_cap_time': cap_time,\n",
    "    }\n",
    "\n",
    "    return capture, metadata"
   ]
  },
  {
   "cell_type": "code",
   "execution_count": 7,
   "metadata": {
    "collapsed": false,
    "jupyter": {
     "outputs_hidden": false
    }
   },
   "outputs": [],
   "source": [
    "def get_sentinel_data(catalog, search_bbox, date_range, *args, **kwargs):\n",
    "    items = catalog.search(\n",
    "        collections=[\"sentinel-2-l2a\"],\n",
    "        bbox=search_bbox,\n",
    "        datetime=date_range,\n",
    "    ).get_all_items()\n",
    "\n",
    "    selected_item = select_best_item(items, date_range)\n",
    "\n",
    "    data = stac.stac_load(\n",
    "        [selected_item],\n",
    "        bands=['B02', 'B03', 'B04', 'B08', 'SCL', 'B11'],\n",
    "        bbox=search_bbox\n",
    "    ).isel(time=0)\n",
    "\n",
    "    img = data[['B04', 'B03', 'B02']].to_array().to_numpy().astype(float).transpose(1, 2, 0) / np.iinfo(np.uint16).max\n",
    "\n",
    "    scl = data['SCL']\n",
    "\n",
    "    red = data[\"B04\"].astype(\"float\")\n",
    "    blue = data[\"B02\"].astype(\"float\")\n",
    "    nir = data[\"B08\"].astype(\"float\")\n",
    "    swir = data[\"B11\"].astype(\"float\")\n",
    "\n",
    "    ndvi = (nir - red) / (nir + red)\n",
    "    ndwi = (nir - swir) / (nir + swir)\n",
    "    evi = (nir - red) / (nir + 6 * red - 7.5 * blue + 1)\n",
    "\n",
    "\n",
    "    platform = selected_item.properties['platform']\n",
    "    cloud_cover = selected_item.properties['eo:cloud_cover']\n",
    "    sun_azimuth = selected_item.properties['s2:mean_solar_azimuth']\n",
    "    sun_elevation = 90 - selected_item.properties['s2:mean_solar_zenith']\n",
    "    cap_ts = pd.to_datetime(selected_item.datetime)\n",
    "    cap_date = cap_ts.strftime('%Y-%m-%d')\n",
    "    cap_time = cap_ts.strftime('%H:%M')\n",
    "\n",
    "    capture = np.dstack([img, scl, ndvi, ndwi, evi])\n",
    "    metadata = {\n",
    "        's_platform': platform,\n",
    "        's_cloud_cover': cloud_cover,\n",
    "        's_sun_azimuth': sun_azimuth,\n",
    "        's_sun_elevation': sun_elevation,\n",
    "        's_cap_date': cap_date,\n",
    "        's_cap_time': cap_time,\n",
    "    }\n",
    "\n",
    "    return capture, metadata"
   ]
  },
  {
   "cell_type": "code",
   "execution_count": 8,
   "metadata": {
    "collapsed": false,
    "jupyter": {
     "outputs_hidden": false
    }
   },
   "outputs": [],
   "source": [
    "data_path = Path(\"../data\")\n",
    "\n",
    "df = pd.read_csv(data_path / \"metadata.csv\")\n",
    "catalog = pystac_client.Client.open(\n",
    "    \"https://planetarycomputer.microsoft.com/api/stac/v1\",\n",
    "    modifier=planetary_computer.sign_inplace,\n",
    ")"
   ]
  },
  {
   "cell_type": "code",
   "execution_count": 9,
   "metadata": {
    "collapsed": false,
    "jupyter": {
     "outputs_hidden": false
    }
   },
   "outputs": [],
   "source": [
    "df[\"date_range_-14+0\"] = df[\"date\"].apply(partial(create_date_range, days_before=14, days_after=0))\n",
    "df[\"bbox\"] = df[[\"latitude\", \"longitude\"]].apply(get_bounding_box, axis=1)"
   ]
  },
  {
   "cell_type": "code",
   "execution_count": 10,
   "metadata": {
    "collapsed": false,
    "jupyter": {
     "outputs_hidden": false
    }
   },
   "outputs": [],
   "source": [
    "get_l = partial(get_landsat_data, catalog=catalog)\n",
    "get_s = partial(get_sentinel_data, catalog=catalog)\n",
    "\n",
    "save_path = data_path / \"more_arrays\"\n",
    "save_path.mkdir(parents=True, exist_ok=True)\n",
    "\n",
    "save_path_meta = data_path / \"more_metadata\"\n",
    "save_path_meta.mkdir(parents=True, exist_ok=True)\n",
    "\n",
    "def download_single_row(row):\n",
    "    meta_l_fail = {\n",
    "        'l_platform': None,\n",
    "        'l_cloud_cover': None,\n",
    "        'l_sun_azimuth': None,\n",
    "        'l_sun_elevation': None,\n",
    "        'l_cap_date': None,\n",
    "        'l_cap_time': None,\n",
    "    }\n",
    "    meta_s_fail = {\n",
    "        's_platform': None,\n",
    "        's_cloud_cover': None,\n",
    "        's_sun_azimuth': None,\n",
    "        's_sun_elevation': None,\n",
    "        's_cap_date': None,\n",
    "        's_cap_time': None,\n",
    "    }\n",
    "\n",
    "    date_range = row['date_range_-14+0']\n",
    "    search_bbox = row['bbox']\n",
    "    try:\n",
    "        landsat_name = save_path / (row['uid'] + '_landsat.npz')\n",
    "        if landsat_name.exists():\n",
    "            raise FileExistsError()\n",
    "        cap_l, meta_l = get_l(search_bbox=search_bbox, date_range=date_range)\n",
    "        np.savez_compressed(landsat_name, caption=cap_l)\n",
    "    except:\n",
    "        meta_l = copy(meta_l_fail)\n",
    "    try:\n",
    "        sentinel_name = save_path / (row['uid'] + '_sentinel.npz')\n",
    "        if sentinel_name.exists():\n",
    "            raise FileExistsError()\n",
    "        cap_s, meta_s = get_s(search_bbox=search_bbox, date_range=date_range)\n",
    "        np.savez_compressed(sentinel_name, caption=cap_s)\n",
    "    except:\n",
    "        meta_s = copy(meta_s_fail)\n",
    "\n",
    "    metadata_fname = save_path_meta / (row['uid'] + '_metadata.json')\n",
    "\n",
    "    if not metadata_fname.exists():\n",
    "        metadata = {'uid': row['uid'], **meta_l, **meta_s}\n",
    "        json.dump(metadata, open(metadata_fname, 'w'))\n",
    "        return metadata"
   ]
  },
  {
   "cell_type": "code",
   "execution_count": null,
   "metadata": {
    "collapsed": false,
    "jupyter": {
     "outputs_hidden": false
    }
   },
   "outputs": [
    {
     "name": "stderr",
     "output_type": "stream",
     "text": [
      "  1%|▍                                                                            | 122/23570 [01:36<4:52:21,  1.34it/s]"
     ]
    }
   ],
   "source": [
    "with multiprocessing.Pool(6) as pool:\n",
    "    results = list(\n",
    "        tqdm(\n",
    "            pool.imap(\n",
    "                download_single_row,\n",
    "                map(\n",
    "                    lambda x: x[1],\n",
    "                    df.iterrows()\n",
    "                )\n",
    "            ),\n",
    "            total=len(df)\n",
    "        )\n",
    "    )"
   ]
  },
  {
   "cell_type": "code",
   "execution_count": null,
   "metadata": {},
   "outputs": [],
   "source": []
  }
 ],
 "metadata": {
  "kernelspec": {
   "display_name": "Python 3 (ipykernel)",
   "language": "python",
   "name": "python3"
  },
  "language_info": {
   "codemirror_mode": {
    "name": "ipython",
    "version": 3
   },
   "file_extension": ".py",
   "mimetype": "text/x-python",
   "name": "python",
   "nbconvert_exporter": "python",
   "pygments_lexer": "ipython3",
   "version": "3.8.10"
  }
 },
 "nbformat": 4,
 "nbformat_minor": 4
}
